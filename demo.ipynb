{
 "cells": [
  {
   "cell_type": "code",
   "execution_count": 4,
   "id": "1b2f02e5-fb6a-4235-9a66-660700cf4d76",
   "metadata": {},
   "outputs": [
    {
     "name": "stdout",
     "output_type": "stream",
     "text": [
      "Sum of squares from 1 to 10 = 385\n"
     ]
    },
    {
     "data": {
      "text/html": [
       "<div><div style = \"float: left;\"><span>3×2 DataFrame</span></div><div style = \"clear: both;\"></div></div><div class = \"data-frame\" style = \"overflow-x: scroll;\"><table class = \"data-frame\" style = \"margin-bottom: 6px;\"><thead><tr class = \"header\"><th class = \"rowNumber\" style = \"font-weight: bold; text-align: right;\">Row</th><th style = \"text-align: left;\">Name</th><th style = \"text-align: left;\">Age</th></tr><tr class = \"subheader headerLastRow\"><th class = \"rowNumber\" style = \"font-weight: bold; text-align: right;\"></th><th title = \"String\" style = \"text-align: left;\">String</th><th title = \"Int64\" style = \"text-align: left;\">Int64</th></tr></thead><tbody><tr><td class = \"rowNumber\" style = \"font-weight: bold; text-align: right;\">1</td><td style = \"text-align: left;\">Alice</td><td style = \"text-align: right;\">25</td></tr><tr><td class = \"rowNumber\" style = \"font-weight: bold; text-align: right;\">2</td><td style = \"text-align: left;\">Bob</td><td style = \"text-align: right;\">31</td></tr><tr><td class = \"rowNumber\" style = \"font-weight: bold; text-align: right;\">3</td><td style = \"text-align: left;\">Carol</td><td style = \"text-align: right;\">47</td></tr></tbody></table></div>"
      ],
      "text/latex": [
       "\\begin{tabular}{r|cc}\n",
       "\t& Name & Age\\\\\n",
       "\t\\hline\n",
       "\t& String & Int64\\\\\n",
       "\t\\hline\n",
       "\t1 & Alice & 25 \\\\\n",
       "\t2 & Bob & 31 \\\\\n",
       "\t3 & Carol & 47 \\\\\n",
       "\\end{tabular}\n"
      ],
      "text/plain": [
       "\u001b[1m3×2 DataFrame\u001b[0m\n",
       "\u001b[1m Row \u001b[0m│\u001b[1m Name   \u001b[0m\u001b[1m Age   \u001b[0m\n",
       "     │\u001b[90m String \u001b[0m\u001b[90m Int64 \u001b[0m\n",
       "─────┼───────────────\n",
       "   1 │ Alice      25\n",
       "   2 │ Bob        31\n",
       "   3 │ Carol      47"
      ]
     },
     "metadata": {},
     "output_type": "display_data"
    },
    {
     "data": {
      "text/latex": [
       "$ \\lim_{n \\to \\infty} \\left( \\sum_{k=1}^n \\frac{1}{k^2} - \\int_1^n \\frac{1}{x^2} , dx \\right) = 1 - \\frac{\\pi^2}{6} $"
      ],
      "text/plain": [
       "L\"$ \\lim_{n \\to \\infty} \\left( \\sum_{k=1}^n \\frac{1}{k^2} - \\int_1^n \\frac{1}{x^2} , dx \\right) = 1 - \\frac{\\pi^2}{6} $\""
      ]
     },
     "metadata": {},
     "output_type": "display_data"
    }
   ],
   "source": [
    "# Calculate and display the sum of squares from 1 to 10\n",
    "numbers = 1:10\n",
    "sum_of_squares = sum(x^2 for x in numbers)\n",
    "println(\"Sum of squares from 1 to 10 = \", sum_of_squares)\n",
    "using Plots\n",
    "\n",
    "x = 1:0.1:10\n",
    "y = sin.(x)\n",
    "plot(x, y, label=\"sin(x)\", xlabel=\"x\", ylabel=\"sin(x)\", title=\"Plot of sin(x)\")\n",
    "using DataFrames\n",
    "\n",
    "# Create a simple DataFrame\n",
    "df = DataFrame(Name=[\"Alice\", \"Bob\", \"Carol\"], Age=[25, 31, 47])\n",
    "display(df)\n",
    "\n",
    "using LaTeXStrings\n",
    "\n",
    "# Create a LaTeX equation\n",
    "tequation = L\" \\lim_{n \\to \\infty} \\left( \\sum_{k=1}^n \\frac{1}{k^2} - \\int_1^n \\frac{1}{x^2} , dx \\right) = 1 - \\frac{\\pi^2}{6} \"\n",
    "display(tequation)\n",
    "\n",
    "\n"
   ]
  },
  {
   "cell_type": "code",
   "execution_count": null,
   "id": "c09d29b5-9016-42b6-a58b-72563a3d5eb7",
   "metadata": {},
   "outputs": [],
   "source": []
  }
 ],
 "metadata": {
  "kernelspec": {
   "display_name": "Julia 1.11.6",
   "language": "julia",
   "name": "julia-1.11"
  },
  "language_info": {
   "file_extension": ".jl",
   "mimetype": "application/julia",
   "name": "julia",
   "version": "1.11.6"
  }
 },
 "nbformat": 4,
 "nbformat_minor": 5
}
